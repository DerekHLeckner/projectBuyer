{
 "cells": [
  {
   "cell_type": "markdown",
   "metadata": {},
   "source": [
    "# Import dependencies"
   ]
  },
  {
   "cell_type": "code",
   "execution_count": 32,
   "metadata": {},
   "outputs": [],
   "source": [
    "from time import sleep\n",
    "import requests\n",
    "from bs4 import BeautifulSoup\n",
    "import pandas as pd\n",
    "import re\n",
    "from collections import defaultdict\n",
    "import random\n",
    "from selenium import webdriver\n",
    "from selenium.webdriver.chrome.options import Options\n",
    "from fake_useragent import UserAgent\n",
    "import names\n",
    "from datetime import datetime\n",
    "import numpy as np"
   ]
  },
  {
   "cell_type": "code",
   "execution_count": 85,
   "metadata": {},
   "outputs": [
    {
     "data": {
      "text/plain": [
       "['02-03-22', '02-03-22', '02-03-22', '02-03-22', '02-03-22', '02-03-22']"
      ]
     },
     "execution_count": 85,
     "metadata": {},
     "output_type": "execute_result"
    }
   ],
   "source": [
    "now = \n",
    "\n",
    "creation_time = [datetime.now().strftime(\"%m-%d-%y\") for i in range(6)]\n",
    "creation_time"
   ]
  },
  {
   "cell_type": "code",
   "execution_count": 86,
   "metadata": {},
   "outputs": [
    {
     "data": {
      "text/plain": [
       "datetime.datetime(2022, 2, 3, 18, 43, 10, 381999)"
      ]
     },
     "execution_count": 86,
     "metadata": {},
     "output_type": "execute_result"
    }
   ],
   "source": [
    "now"
   ]
  },
  {
   "cell_type": "code",
   "execution_count": 79,
   "metadata": {},
   "outputs": [],
   "source": [
    "full_names = [names.get_full_name().split(' ') for i in range(6)]\n",
    "firstNames = [i[0] for i in full_names]\n",
    "lastNames = [i[1] for i in full_names]"
   ]
  },
  {
   "cell_type": "code",
   "execution_count": 81,
   "metadata": {},
   "outputs": [
    {
     "data": {
      "text/plain": [
       "['Willman', 'Isom', 'Smith', 'Jones', 'Na', 'Little']"
      ]
     },
     "execution_count": 81,
     "metadata": {},
     "output_type": "execute_result"
    }
   ],
   "source": [
    "lastNames"
   ]
  },
  {
   "cell_type": "markdown",
   "metadata": {},
   "source": [
    "# UserAgent Generate"
   ]
  },
  {
   "cell_type": "code",
   "execution_count": 24,
   "metadata": {},
   "outputs": [],
   "source": [
    "# This needs to be saved and stored, expired after a while\n",
    "# my_agents = [UserAgent().random for i in range(6)]"
   ]
  },
  {
   "cell_type": "code",
   "execution_count": 82,
   "metadata": {},
   "outputs": [],
   "source": [
    "agents_dic = {}\n",
    "agents_dic['agents'] = my_agents\n",
    "agents_dic['agentFn'] = firstNames\n",
    "agents_dic['agentLn'] = lastNames\n",
    "agents_dic['creationDate'] = creation_time\n",
    "agents_dic['missionCount'] = [0,0,0,0,0,0]\n",
    "agents_dic['lastMissionDate'] = [np.nan,np.nan,np.nan,np.nan,np.nan,np.nan]\n",
    "agents_dic['lastMissionBuilding'] = [np.nan,np.nan,np.nan,np.nan,np.nan,np.nan]\n",
    "agents_dic['lastMissionCompany'] = [np.nan,np.nan,np.nan,np.nan,np.nan,np.nan]"
   ]
  },
  {
   "cell_type": "code",
   "execution_count": 83,
   "metadata": {},
   "outputs": [],
   "source": [
    "agents_df = pd.DataFrame.from_dict(agents_dic)\n",
    "# agents_df.to_csv(\"Resources/agents.csv\")"
   ]
  },
  {
   "cell_type": "markdown",
   "metadata": {},
   "source": [
    "# Create Dictionary"
   ]
  },
  {
   "cell_type": "code",
   "execution_count": 36,
   "metadata": {},
   "outputs": [],
   "source": [
    "query_dic = {}\n",
    "query_dic['company'] =['udr','udr','udr','udr','udr','udr']\n",
    "query_dic['building'] = [\"10 Hanover Square\", \"21 Chelsea\", \"95 Wall\", \"Columbus Square\", \"Leonard Pointe\", \"View 34\"]\n",
    "query_dic['state'] = ['New York','New York','New York','New York','New York','New York']\n",
    "query_dic['maxBdr'] = [3,5,3,4,2,3]\n",
    "query_dic['buildingLong'] = [-74.008881,-73.994598,-74.007498,-73.967116,-73.948483,-73.972534]\n",
    "query_dic['buildingLat'] = [40.704552,40.741749,40.704694,40.793967,40.718062,40.743588]\n",
    "query_dic['buildingUrl'] = ['https://www.udr.com/new-york-city-apartments/lower-manhattan/10-hanover-square/apartments-pricing',\n",
    " 'https://www.udr.com/new-york-city-apartments/chelsea/21-chelsea/apartments-pricing',\n",
    " 'https://www.udr.com/new-york-city-apartments/lower-manhattan/95-wall/apartments-pricing',\n",
    " 'https://www.udr.com/new-york-city-apartments/upper-west-side/columbus-square/apartments-pricing',\n",
    " 'https://www.udr.com/new-york-city-apartments/williamsburg/leonard-pointe/apartments-pricing',\n",
    " 'https://www.udr.com/new-york-city-apartments/murray-hill/view-34/apartments-pricing']"
   ]
  },
  {
   "cell_type": "code",
   "execution_count": 53,
   "metadata": {},
   "outputs": [
    {
     "name": "stderr",
     "output_type": "stream",
     "text": [
      "C:\\Users\\dhlec\\anaconda3\\envs\\PythonData\\lib\\site-packages\\ipykernel_launcher.py:2: DeprecationWarning: use options instead of chrome_options\n",
      "  \n"
     ]
    }
   ],
   "source": [
    "options = Options()\n",
    "options.add_argument(f\"user-agent={userAgent})\n",
    "driver = webdriver.Chrome(chrome_options=options)"
   ]
  },
  {
   "cell_type": "code",
   "execution_count": 38,
   "metadata": {},
   "outputs": [],
   "source": [
    "query_df = pd.DataFrame.from_dict(query_dic)\n",
    "# query_df.to_csv(\"Resources/queryList.csv\")"
   ]
  },
  {
   "cell_type": "code",
   "execution_count": 11,
   "metadata": {},
   "outputs": [],
   "source": [
    "driver = webdriver.Chrome('chromedriver.exe')  # Optional argument, if not specified will search path."
   ]
  },
  {
   "cell_type": "code",
   "execution_count": 3,
   "metadata": {},
   "outputs": [],
   "source": [
    "base_url = \"https://www.udr.com\"\n",
    "pricePage = 'apartments-pricing'\n",
    "sitemapPage = 'site-map'\n",
    "sitemap_url = f\"{base_url}/{sitemapPage}\""
   ]
  },
  {
   "cell_type": "markdown",
   "metadata": {},
   "source": [
    "# Query Sitemap"
   ]
  },
  {
   "cell_type": "code",
   "execution_count": 4,
   "metadata": {},
   "outputs": [],
   "source": [
    "URL = sitemap_url\n",
    "page = requests.get(URL)\n",
    "soup = BeautifulSoup(page.content, \"html.parser\")"
   ]
  },
  {
   "cell_type": "code",
   "execution_count": 5,
   "metadata": {},
   "outputs": [],
   "source": [
    "# Find all locations\n",
    "\n",
    "all_accordions = soup.find_all('h3', {'class': \"accordion-header\"})\n",
    "all_regions = soup.find_all('a', {'class': \"region\"})\n",
    "all_communities = soup.find_all('a', {'class': \"community\"})\n",
    "all_urls = soup.find_all(\"a\", {'class':\"community\"})\n",
    "\n",
    "# Store all locations\n",
    "states = [accordion.text.replace('\\n','').replace('\\r', '').strip() for accordion in all_accordions]\n",
    "cities = [region.text.replace('\\n','').replace('\\r', '').strip() for region in all_regions]\n",
    "communities = [community.text.replace('\\n','').replace('\\r', '').strip() for community in all_communities]\n",
    "location_urls = [base_url+url.get('href')+pricePage for url in all_urls]"
   ]
  },
  {
   "cell_type": "markdown",
   "metadata": {},
   "source": [
    "# Query Pattern for rooms"
   ]
  },
  {
   "cell_type": "code",
   "execution_count": 205,
   "metadata": {},
   "outputs": [],
   "source": [
    "# def get_rooms(all_anchors):\n",
    "#     pattern = 'beds=\\d+'\n",
    "#     current_max = \"\"\n",
    "#     for anchor in all_anchors:\n",
    "#         link = str(anchor.get_attribute('href'))\n",
    "#         if re.findall(pattern, link):\n",
    "#             test_max = re.findall(pattern, link)[0].split('=')[1]\n",
    "#             if test_max > current_max:\n",
    "#                 current_max = test_max\n",
    "#     return current_max"
   ]
  },
  {
   "cell_type": "markdown",
   "metadata": {},
   "source": [
    "# Query code for patther"
   ]
  },
  {
   "cell_type": "code",
   "execution_count": null,
   "metadata": {},
   "outputs": [],
   "source": [
    "\n",
    "\n",
    "# Load buildings\n"
   ]
  },
  {
   "cell_type": "code",
   "execution_count": null,
   "metadata": {},
   "outputs": [],
   "source": [
    "# Checks to see if there are still buildings to query\n",
    "building_list = query_dic['buildingUrl']\n",
    "number_buildings = len(building_list)\n",
    "while len(building_list) > 0: \n",
    "    \n",
    "    # Load agents\n",
    "    agents_list = agents_df['agents'].tolist()\n",
    "    number_agents = len(agents_list)\n",
    "    \n",
    "    #Select agent\n",
    "    for n in range(number_agents):\n",
    "        selectedAgent = random.choice(agents_list)\n",
    "        agents_list.remove(selectedAgent)\n",
    "        agentContinues = random.randrange(0,2)\n",
    "\n",
    "        options = Options()\n",
    "        options.add_argument(f\"user-agent={selectedAgent}\")\n",
    "        driver = webdriver.Chrome(chrome_options=options)\n",
    "\n",
    "        while (agentContinues == 1) & (building_list >0):\n",
    "            selectedBuilding= random.choice(building_list)\n",
    "    #         building_list.remove(selectedBuildings)\n",
    "\n",
    "\n",
    "            if 'https://www.udr.com/new-york-city-apartments/chelsea/21-chelsea/apartments-pricing' not in selectedBuilding:\n",
    "                maxBedroom = query_df[query_df['buildingUrl'] == selectedBuilding]['maxBdr']\n",
    "                bedroomQueries = [str(i+1) for i in range(maxBedroom)]\n",
    "                number_bdr_queries = len(bedroomQueries)\n",
    "            else:\n",
    "                bedroomQueries = [\"0\", '1','2','5']\n",
    "                number_bdr_queries = len(bedroomQueries)\n",
    "                \n",
    "                for bdr in range(number_bdr_queries):\n",
    "                    selectedBdr = random.choice(bedroomQueries)\n",
    "                    bedroomQueries.remove(selectedBdr)\n",
    "                    queryUrl = f\"{selectedBuilding}?beds={selectedBdr}\"\n",
    "                    driver.get(queryUrl)\n",
    "                    "
   ]
  },
  {
   "cell_type": "code",
   "execution_count": 72,
   "metadata": {},
   "outputs": [
    {
     "name": "stdout",
     "output_type": "stream",
     "text": [
      "1\n",
      "2\n",
      "3\n",
      "4\n"
     ]
    }
   ],
   "source": [
    "for i in range(4):\n",
    "    print(i+1)"
   ]
  },
  {
   "cell_type": "code",
   "execution_count": 137,
   "metadata": {},
   "outputs": [
    {
     "ename": "NameError",
     "evalue": "name 'locationUrls' is not defined",
     "output_type": "error",
     "traceback": [
      "\u001b[1;31m---------------------------------------------------------------------------\u001b[0m",
      "\u001b[1;31mNameError\u001b[0m                                 Traceback (most recent call last)",
      "\u001b[1;32m<ipython-input-137-be700fd189e9>\u001b[0m in \u001b[0;36m<module>\u001b[1;34m\u001b[0m\n\u001b[1;32m----> 1\u001b[1;33m \u001b[1;32mfor\u001b[0m \u001b[0mlocationUrl\u001b[0m \u001b[1;32min\u001b[0m \u001b[0mlocationUrls\u001b[0m\u001b[1;33m:\u001b[0m\u001b[1;33m\u001b[0m\u001b[1;33m\u001b[0m\u001b[0m\n\u001b[0m\u001b[0;32m      2\u001b[0m     \u001b[0mqueryURL\u001b[0m \u001b[1;33m=\u001b[0m \u001b[0mlocationUrl\u001b[0m\u001b[1;33m\u001b[0m\u001b[1;33m\u001b[0m\u001b[0m\n\u001b[0;32m      3\u001b[0m     \u001b[0mpage\u001b[0m \u001b[1;33m=\u001b[0m \u001b[0mrequests\u001b[0m\u001b[1;33m.\u001b[0m\u001b[0mget\u001b[0m\u001b[1;33m(\u001b[0m\u001b[0mqueryURL\u001b[0m\u001b[1;33m)\u001b[0m\u001b[1;33m\u001b[0m\u001b[1;33m\u001b[0m\u001b[0m\n\u001b[0;32m      4\u001b[0m     \u001b[0msoup\u001b[0m \u001b[1;33m=\u001b[0m \u001b[0mBeautifulSoup\u001b[0m\u001b[1;33m(\u001b[0m\u001b[0mpage\u001b[0m\u001b[1;33m.\u001b[0m\u001b[0mcontent\u001b[0m\u001b[1;33m,\u001b[0m \u001b[1;34m\"html.parser\"\u001b[0m\u001b[1;33m)\u001b[0m\u001b[1;33m\u001b[0m\u001b[1;33m\u001b[0m\u001b[0m\n",
      "\u001b[1;31mNameError\u001b[0m: name 'locationUrls' is not defined"
     ]
    }
   ],
   "source": [
    "# Instantiate Dictionary\n",
    "dic = {}\n",
    "dic['building'] = [] #Add building \n",
    "\n",
    "# List of \n",
    "working_location_urls = location_urls\n",
    "number_locations = len(working_location_urls)\n",
    "\n",
    "\n",
    "for n in range(number_locations):\n",
    "    \n",
    "    locationUrl = random.choice(working_location_urls) # Select random URL\n",
    "    working_location_urls.remove(locationUrl) # Remove that from the list\n",
    "    \n",
    "    page = driver.get(locationUrl) # Crawl page\n",
    "    all_anchors = driver.find_elements_by_tag_name('a') # Find all links\n",
    "    get_rooms(all_anchors) # Target only links with valid bedroom URLs and find the max bedrooms\n",
    "    \n",
    "    for i in range(int(current_max)+1): # Loop through max values instatiating the appropriate \n",
    "        if f'amount_bdr{i}' not in dic.keys():\n",
    "            dic[f'amount_bdr{i}'] = []\n",
    "        else:\n",
    "            pass\n",
    "    \n",
    "    \n",
    "        beds_url = f\"https://www.udr.com/inland-empire-apartments/rancho-cucamonga/verano-at-rancho-cucamonga-town-square/apartments-pricing/?beds={i}\"\n",
    "        beds_page = driver.get(beds_url)\n",
    "        amount_bdrs = int(beds_page.find(\"span\", {'class': 'amount'}).text)\n",
    "        dic[f\"amount_bdr{i}\"].append(amount_bdrs) # Grab amount of items\n",
    "        dic['building'].append(locationUrl.split('/')[-2].replace('-', ' ')) # Grab building\n",
    "        if amount_bdrs != 0:\n",
    "            while driver.find_element_by_xpath(\"//button[@class='load-more button row']\").text == 'LOAD MORE':\n",
    "                driver.find_element_by_xpath(\"//button[@class='load-more button row']\").click()\n",
    "                sleep(3)\n",
    "            \n",
    "        \n",
    "        \n",
    "        "
   ]
  }
 ],
 "metadata": {
  "kernelspec": {
   "display_name": "Python 3",
   "language": "python",
   "name": "python3"
  },
  "language_info": {
   "codemirror_mode": {
    "name": "ipython",
    "version": 3
   },
   "file_extension": ".py",
   "mimetype": "text/x-python",
   "name": "python",
   "nbconvert_exporter": "python",
   "pygments_lexer": "ipython3",
   "version": "3.8.3"
  }
 },
 "nbformat": 4,
 "nbformat_minor": 4
}
