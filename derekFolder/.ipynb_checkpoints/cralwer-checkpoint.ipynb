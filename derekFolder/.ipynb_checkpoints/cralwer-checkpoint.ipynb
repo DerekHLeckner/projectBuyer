{
 "cells": [
  {
   "cell_type": "code",
   "execution_count": 203,
   "metadata": {},
   "outputs": [],
   "source": [
    "import pandas as pd\n",
    "from selenium import webdriver\n",
    "from selenium.webdriver.chrome.options import Options\n",
    "from time import sleep\n",
    "import re\n",
    "import numpy as np"
   ]
  },
  {
   "cell_type": "code",
   "execution_count": 67,
   "metadata": {},
   "outputs": [],
   "source": [
    "agents_df = pd.read_csv('Resources/agents.csv', index_col=0)\n",
    "query_df = pd.read_csv('Resources/queryList.csv', index_col=0)"
   ]
  },
  {
   "cell_type": "code",
   "execution_count": 73,
   "metadata": {},
   "outputs": [],
   "source": [
    "selectedAgent = agents_df['agents'].iloc[0]"
   ]
  },
  {
   "cell_type": "code",
   "execution_count": 20,
   "metadata": {},
   "outputs": [],
   "source": [
    "number = agents_df[agents_df['agents'] == selected_agent]['missionCount']"
   ]
  },
  {
   "cell_type": "code",
   "execution_count": 27,
   "metadata": {},
   "outputs": [
    {
     "name": "stderr",
     "output_type": "stream",
     "text": [
      "C:\\Users\\dhlec\\anaconda3\\envs\\PythonData\\lib\\site-packages\\ipykernel_launcher.py:1: SettingWithCopyWarning: \n",
      "A value is trying to be set on a copy of a slice from a DataFrame.\n",
      "Try using .loc[row_indexer,col_indexer] = value instead\n",
      "\n",
      "See the caveats in the documentation: https://pandas.pydata.org/pandas-docs/stable/user_guide/indexing.html#returning-a-view-versus-a-copy\n",
      "  \"\"\"Entry point for launching an IPython kernel.\n"
     ]
    }
   ],
   "source": [
    "agents_df[agents_df['agents'] == selected_agent]['missionCount'] = number+1"
   ]
  },
  {
   "cell_type": "code",
   "execution_count": 60,
   "metadata": {},
   "outputs": [],
   "source": [
    "agent_index = agents_df[agents_df['agents'] == selected_agent].index[0]"
   ]
  },
  {
   "cell_type": "code",
   "execution_count": 64,
   "metadata": {},
   "outputs": [],
   "source": [
    "agents_df.at[agent_index,'missionCount']-=1"
   ]
  },
  {
   "cell_type": "code",
   "execution_count": 65,
   "metadata": {
    "scrolled": false
   },
   "outputs": [
    {
     "data": {
      "text/html": [
       "<div>\n",
       "<style scoped>\n",
       "    .dataframe tbody tr th:only-of-type {\n",
       "        vertical-align: middle;\n",
       "    }\n",
       "\n",
       "    .dataframe tbody tr th {\n",
       "        vertical-align: top;\n",
       "    }\n",
       "\n",
       "    .dataframe thead th {\n",
       "        text-align: right;\n",
       "    }\n",
       "</style>\n",
       "<table border=\"1\" class=\"dataframe\">\n",
       "  <thead>\n",
       "    <tr style=\"text-align: right;\">\n",
       "      <th></th>\n",
       "      <th>agents</th>\n",
       "      <th>agentFn</th>\n",
       "      <th>agentLn</th>\n",
       "      <th>creationDate</th>\n",
       "      <th>missionCount</th>\n",
       "      <th>lastMissionDate</th>\n",
       "      <th>lastMissionBuilding</th>\n",
       "      <th>lastMissionCompany</th>\n",
       "    </tr>\n",
       "  </thead>\n",
       "  <tbody>\n",
       "    <tr>\n",
       "      <th>0</th>\n",
       "      <td>Mozilla/5.0 (Windows NT 6.3; WOW64) AppleWebKi...</td>\n",
       "      <td>Clara</td>\n",
       "      <td>Willman</td>\n",
       "      <td>02-03-22</td>\n",
       "      <td>0</td>\n",
       "      <td>NaN</td>\n",
       "      <td>NaN</td>\n",
       "      <td>NaN</td>\n",
       "    </tr>\n",
       "    <tr>\n",
       "      <th>1</th>\n",
       "      <td>Mozilla/5.0 (Windows NT 5.1) AppleWebKit/537.3...</td>\n",
       "      <td>Timothy</td>\n",
       "      <td>Isom</td>\n",
       "      <td>02-03-22</td>\n",
       "      <td>0</td>\n",
       "      <td>NaN</td>\n",
       "      <td>NaN</td>\n",
       "      <td>NaN</td>\n",
       "    </tr>\n",
       "    <tr>\n",
       "      <th>2</th>\n",
       "      <td>Mozilla/5.0 (Windows NT 5.1) AppleWebKit/537.3...</td>\n",
       "      <td>Nicole</td>\n",
       "      <td>Smith</td>\n",
       "      <td>02-03-22</td>\n",
       "      <td>0</td>\n",
       "      <td>NaN</td>\n",
       "      <td>NaN</td>\n",
       "      <td>NaN</td>\n",
       "    </tr>\n",
       "    <tr>\n",
       "      <th>3</th>\n",
       "      <td>Mozilla/5.0 (Windows NT 6.2; WOW64) AppleWebKi...</td>\n",
       "      <td>Jose</td>\n",
       "      <td>Jones</td>\n",
       "      <td>02-03-22</td>\n",
       "      <td>0</td>\n",
       "      <td>NaN</td>\n",
       "      <td>NaN</td>\n",
       "      <td>NaN</td>\n",
       "    </tr>\n",
       "    <tr>\n",
       "      <th>4</th>\n",
       "      <td>Mozilla/5.0 (X11; OpenBSD i386) AppleWebKit/53...</td>\n",
       "      <td>Jason</td>\n",
       "      <td>Na</td>\n",
       "      <td>02-03-22</td>\n",
       "      <td>0</td>\n",
       "      <td>NaN</td>\n",
       "      <td>NaN</td>\n",
       "      <td>NaN</td>\n",
       "    </tr>\n",
       "    <tr>\n",
       "      <th>5</th>\n",
       "      <td>Mozilla/5.0 (Windows NT 6.1) AppleWebKit/537.3...</td>\n",
       "      <td>Eric</td>\n",
       "      <td>Little</td>\n",
       "      <td>02-03-22</td>\n",
       "      <td>0</td>\n",
       "      <td>NaN</td>\n",
       "      <td>NaN</td>\n",
       "      <td>NaN</td>\n",
       "    </tr>\n",
       "  </tbody>\n",
       "</table>\n",
       "</div>"
      ],
      "text/plain": [
       "                                              agents  agentFn  agentLn  \\\n",
       "0  Mozilla/5.0 (Windows NT 6.3; WOW64) AppleWebKi...    Clara  Willman   \n",
       "1  Mozilla/5.0 (Windows NT 5.1) AppleWebKit/537.3...  Timothy     Isom   \n",
       "2  Mozilla/5.0 (Windows NT 5.1) AppleWebKit/537.3...   Nicole    Smith   \n",
       "3  Mozilla/5.0 (Windows NT 6.2; WOW64) AppleWebKi...     Jose    Jones   \n",
       "4  Mozilla/5.0 (X11; OpenBSD i386) AppleWebKit/53...    Jason       Na   \n",
       "5  Mozilla/5.0 (Windows NT 6.1) AppleWebKit/537.3...     Eric   Little   \n",
       "\n",
       "  creationDate  missionCount  lastMissionDate  lastMissionBuilding  \\\n",
       "0     02-03-22             0              NaN                  NaN   \n",
       "1     02-03-22             0              NaN                  NaN   \n",
       "2     02-03-22             0              NaN                  NaN   \n",
       "3     02-03-22             0              NaN                  NaN   \n",
       "4     02-03-22             0              NaN                  NaN   \n",
       "5     02-03-22             0              NaN                  NaN   \n",
       "\n",
       "   lastMissionCompany  \n",
       "0                 NaN  \n",
       "1                 NaN  \n",
       "2                 NaN  \n",
       "3                 NaN  \n",
       "4                 NaN  \n",
       "5                 NaN  "
      ]
     },
     "execution_count": 65,
     "metadata": {},
     "output_type": "execute_result"
    }
   ],
   "source": [
    "agents_df"
   ]
  },
  {
   "cell_type": "code",
   "execution_count": 202,
   "metadata": {},
   "outputs": [
    {
     "ename": "NameError",
     "evalue": "name 'available_dic' is not defined",
     "output_type": "error",
     "traceback": [
      "\u001b[1;31m---------------------------------------------------------------------------\u001b[0m",
      "\u001b[1;31mNameError\u001b[0m                                 Traceback (most recent call last)",
      "\u001b[1;32m<ipython-input-202-c6c1fa733646>\u001b[0m in \u001b[0;36m<module>\u001b[1;34m\u001b[0m\n\u001b[1;32m----> 1\u001b[1;33m \u001b[1;32mfor\u001b[0m \u001b[0mavailable_rooms\u001b[0m \u001b[1;32min\u001b[0m \u001b[0mavailable_dic\u001b[0m\u001b[1;33m.\u001b[0m\u001b[0mkeys\u001b[0m\u001b[1;33m(\u001b[0m\u001b[1;33m)\u001b[0m\u001b[1;33m:\u001b[0m\u001b[1;33m\u001b[0m\u001b[1;33m\u001b[0m\u001b[0m\n\u001b[0m\u001b[0;32m      2\u001b[0m     \u001b[1;32mif\u001b[0m \u001b[0mlen\u001b[0m\u001b[1;33m(\u001b[0m\u001b[0mavailable_dic\u001b[0m\u001b[1;33m[\u001b[0m\u001b[0mavailable_rooms\u001b[0m\u001b[1;33m]\u001b[0m\u001b[1;33m.\u001b[0m\u001b[0mvalues\u001b[0m\u001b[1;33m(\u001b[0m\u001b[1;33m)\u001b[0m\u001b[1;33m)\u001b[0m \u001b[1;33m!=\u001b[0m \u001b[0mavailable_dic\u001b[0m\u001b[1;33m[\u001b[0m\u001b[1;34m'date'\u001b[0m\u001b[1;33m]\u001b[0m\u001b[1;33m:\u001b[0m\u001b[1;33m\u001b[0m\u001b[1;33m\u001b[0m\u001b[0m\n\u001b[0;32m      3\u001b[0m         \u001b[0mavailable_dic\u001b[0m\u001b[1;33m[\u001b[0m\u001b[0mavailable_rooms\u001b[0m\u001b[1;33m]\u001b[0m\u001b[1;33m.\u001b[0m\u001b[0mappend\u001b[0m\u001b[1;33m(\u001b[0m\u001b[0mnp\u001b[0m\u001b[1;33m.\u001b[0m\u001b[0mnan\u001b[0m\u001b[1;33m)\u001b[0m\u001b[1;33m\u001b[0m\u001b[1;33m\u001b[0m\u001b[0m\n",
      "\u001b[1;31mNameError\u001b[0m: name 'available_dic' is not defined"
     ]
    }
   ],
   "source": [
    "for available_rooms in available_dic.keys():\n",
    "    if len(available_dic[available_rooms].values()) != available_dic['date']:\n",
    "        available_dic[available_rooms].append(np.nan)"
   ]
  },
  {
   "cell_type": "code",
   "execution_count": null,
   "metadata": {},
   "outputs": [],
   "source": []
  },
  {
   "cell_type": "code",
   "execution_count": 204,
   "metadata": {},
   "outputs": [],
   "source": [
    "me = {}\n",
    "me['1'] =[]\n",
    "me['2'] = [3]"
   ]
  },
  {
   "cell_type": "code",
   "execution_count": 213,
   "metadata": {},
   "outputs": [
    {
     "data": {
      "text/plain": [
       "[3]"
      ]
     },
     "execution_count": 213,
     "metadata": {},
     "output_type": "execute_result"
    }
   ],
   "source": [
    "me['2']"
   ]
  },
  {
   "cell_type": "code",
   "execution_count": 216,
   "metadata": {},
   "outputs": [],
   "source": [
    "for key in me.keys():\n",
    "    if len(me[key]) != len(me['2']):\n",
    "        me[key].append(np.nan)"
   ]
  },
  {
   "cell_type": "code",
   "execution_count": 218,
   "metadata": {},
   "outputs": [
    {
     "data": {
      "text/plain": [
       "1"
      ]
     },
     "execution_count": 218,
     "metadata": {},
     "output_type": "execute_result"
    }
   ],
   "source": [
    "len(me['1'])"
   ]
  },
  {
   "cell_type": "code",
   "execution_count": 6,
   "metadata": {},
   "outputs": [
    {
     "data": {
      "text/html": [
       "<div>\n",
       "<style scoped>\n",
       "    .dataframe tbody tr th:only-of-type {\n",
       "        vertical-align: middle;\n",
       "    }\n",
       "\n",
       "    .dataframe tbody tr th {\n",
       "        vertical-align: top;\n",
       "    }\n",
       "\n",
       "    .dataframe thead th {\n",
       "        text-align: right;\n",
       "    }\n",
       "</style>\n",
       "<table border=\"1\" class=\"dataframe\">\n",
       "  <thead>\n",
       "    <tr style=\"text-align: right;\">\n",
       "      <th></th>\n",
       "      <th>agents</th>\n",
       "      <th>agentFn</th>\n",
       "      <th>agentLn</th>\n",
       "      <th>creationDate</th>\n",
       "      <th>missionCount</th>\n",
       "      <th>lastMissionDate</th>\n",
       "      <th>lastMissionBuilding</th>\n",
       "      <th>lastMissionCompany</th>\n",
       "    </tr>\n",
       "  </thead>\n",
       "  <tbody>\n",
       "    <tr>\n",
       "      <th>0</th>\n",
       "      <td>Mozilla/5.0 (Windows NT 6.3; WOW64) AppleWebKi...</td>\n",
       "      <td>Clara</td>\n",
       "      <td>Willman</td>\n",
       "      <td>02-03-22</td>\n",
       "      <td>0</td>\n",
       "      <td>NaN</td>\n",
       "      <td>NaN</td>\n",
       "      <td>NaN</td>\n",
       "    </tr>\n",
       "    <tr>\n",
       "      <th>1</th>\n",
       "      <td>Mozilla/5.0 (Windows NT 5.1) AppleWebKit/537.3...</td>\n",
       "      <td>Timothy</td>\n",
       "      <td>Isom</td>\n",
       "      <td>02-03-22</td>\n",
       "      <td>0</td>\n",
       "      <td>NaN</td>\n",
       "      <td>NaN</td>\n",
       "      <td>NaN</td>\n",
       "    </tr>\n",
       "    <tr>\n",
       "      <th>2</th>\n",
       "      <td>Mozilla/5.0 (Windows NT 5.1) AppleWebKit/537.3...</td>\n",
       "      <td>Nicole</td>\n",
       "      <td>Smith</td>\n",
       "      <td>02-03-22</td>\n",
       "      <td>0</td>\n",
       "      <td>NaN</td>\n",
       "      <td>NaN</td>\n",
       "      <td>NaN</td>\n",
       "    </tr>\n",
       "    <tr>\n",
       "      <th>3</th>\n",
       "      <td>Mozilla/5.0 (Windows NT 6.2; WOW64) AppleWebKi...</td>\n",
       "      <td>Jose</td>\n",
       "      <td>Jones</td>\n",
       "      <td>02-03-22</td>\n",
       "      <td>0</td>\n",
       "      <td>NaN</td>\n",
       "      <td>NaN</td>\n",
       "      <td>NaN</td>\n",
       "    </tr>\n",
       "    <tr>\n",
       "      <th>4</th>\n",
       "      <td>Mozilla/5.0 (X11; OpenBSD i386) AppleWebKit/53...</td>\n",
       "      <td>Jason</td>\n",
       "      <td>Na</td>\n",
       "      <td>02-03-22</td>\n",
       "      <td>0</td>\n",
       "      <td>NaN</td>\n",
       "      <td>NaN</td>\n",
       "      <td>NaN</td>\n",
       "    </tr>\n",
       "    <tr>\n",
       "      <th>5</th>\n",
       "      <td>Mozilla/5.0 (Windows NT 6.1) AppleWebKit/537.3...</td>\n",
       "      <td>Eric</td>\n",
       "      <td>Little</td>\n",
       "      <td>02-03-22</td>\n",
       "      <td>0</td>\n",
       "      <td>NaN</td>\n",
       "      <td>NaN</td>\n",
       "      <td>NaN</td>\n",
       "    </tr>\n",
       "  </tbody>\n",
       "</table>\n",
       "</div>"
      ],
      "text/plain": [
       "                                              agents  agentFn  agentLn  \\\n",
       "0  Mozilla/5.0 (Windows NT 6.3; WOW64) AppleWebKi...    Clara  Willman   \n",
       "1  Mozilla/5.0 (Windows NT 5.1) AppleWebKit/537.3...  Timothy     Isom   \n",
       "2  Mozilla/5.0 (Windows NT 5.1) AppleWebKit/537.3...   Nicole    Smith   \n",
       "3  Mozilla/5.0 (Windows NT 6.2; WOW64) AppleWebKi...     Jose    Jones   \n",
       "4  Mozilla/5.0 (X11; OpenBSD i386) AppleWebKit/53...    Jason       Na   \n",
       "5  Mozilla/5.0 (Windows NT 6.1) AppleWebKit/537.3...     Eric   Little   \n",
       "\n",
       "  creationDate  missionCount  lastMissionDate  lastMissionBuilding  \\\n",
       "0     02-03-22             0              NaN                  NaN   \n",
       "1     02-03-22             0              NaN                  NaN   \n",
       "2     02-03-22             0              NaN                  NaN   \n",
       "3     02-03-22             0              NaN                  NaN   \n",
       "4     02-03-22             0              NaN                  NaN   \n",
       "5     02-03-22             0              NaN                  NaN   \n",
       "\n",
       "   lastMissionCompany  \n",
       "0                 NaN  \n",
       "1                 NaN  \n",
       "2                 NaN  \n",
       "3                 NaN  \n",
       "4                 NaN  \n",
       "5                 NaN  "
      ]
     },
     "execution_count": 6,
     "metadata": {},
     "output_type": "execute_result"
    }
   ],
   "source": [
    "available_dic = {}\n",
    "available_dic['building'] = []\n",
    "available_dic['date'] = []\n",
    "available_dic['0'] = []\n",
    "available_dic['1'] = []\n",
    "available_dic['2'] = []\n",
    "available_dic['3'] = []\n",
    "available_dic['4'] = []\n",
    "available_dic['5'] = []\n",
    "\n",
    "units_dic = {}\n",
    "units_dic['date'] = []\n",
    "units_dic['unitName'] = []\n",
    "units_dic['sqrFt'] = []\n",
    "units_dic['price'] = []\n",
    "units_dic['availableDate'] = []\n",
    "units_dic['bdr'] = []\n",
    "units_dic['bthr'] = []\n",
    "units_dic['flr'] = []\n",
    "units_dic['features'] = []\n",
    "units_dc['apt_views'] = []\n",
    "########################################################################\n",
    "\n",
    "# Checks to see if there are still buildings to query\n",
    "building_list = query_df['buildingUrl']\n",
    "number_buildings = len(building_list)\n",
    "while len(building_list) > 0: \n",
    "    \n",
    "    # Load agents\n",
    "    agents_list = agents_df['agents'].tolist()\n",
    "    number_agents = len(agents_list)\n",
    "    \n",
    "    #Select agent\n",
    "    for n in range(number_agents):\n",
    "        selectedAgent = random.choice(agents_list)\n",
    "        agents_list.remove(selectedAgent)\n",
    "        agentContinues = random.randrange(0,2)\n",
    "\n",
    "        options = Options()\n",
    "        options.add_argument(f\"user-agent={selectedAgent}\")\n",
    "        driver = webdriver.Chrome(chrome_options=options)\n",
    "\n",
    "        while (agentContinues == 1) & (building_list >0):\n",
    "            selectedBuilding= random.choice(building_list)\n",
    "    #         building_list.remove(selectedBuildings)\n",
    "\n",
    "\n",
    "            if 'https://www.udr.com/new-york-city-apartments/chelsea/21-chelsea/apartments-pricing' not in selectedBuilding:\n",
    "                maxBedroom = query_df[query_df['buildingUrl'] == selectedBuilding]['maxBdr']\n",
    "                bedroomQueries = [str(i+1) for i in range(maxBedroom)]\n",
    "                number_bdr_queries = len(bedroomQueries)\n",
    "            else:\n",
    "                bedroomQueries = [\"0\", '1','2','5']\n",
    "                number_bdr_queries = len(bedroomQueries)\n",
    "                \n",
    "            for bdr in range(number_bdr_queries):\n",
    "                selectedBdr = random.choice(bedroomQueries)\n",
    "                bedroomQueries.remove(selectedBdr)\n",
    "                queryUrl = f\"{selectedBuilding}?beds={selectedBdr}\"\n",
    "                driver.get(queryUrl)\n",
    "                \n",
    "                # Get agent index\n",
    "                agent_index = agents_df[agents_df['agents'] == selected_agent].index[0]\n",
    "                \n",
    "                # Get building index\n",
    "                query_index = query_df[query_df['buildingUrl'] == selectedBuilding].index[0]                \n",
    "                \n",
    "                # UPDATES\n",
    "                agents_df.at[agent_index, \"missionCount\"]+=1 # Update Mission\n",
    "                agents_df.at[agent_index, 'lastMissionDate'] = now.strftime(\"%m-%d-%y\") # Update Mission\n",
    "                agents_df.at[auery_index, 'lastMissionBuilding'] = query_df.at[query_index, 'building'] # Update building\n",
    "                agents_df.at[auery_index, 'lastMissionCompany'] = query_df.at[query_index, 'company'] # Update company\n",
    "                \n",
    "                # Load Full List\n",
    "                while driver.find_element_by_xpath(\"//button[@class='load-more button row']\").text == 'LOAD MORE':\n",
    "                    driver.find_element_by_xpath(\"//button[@class='load-more button row']\").click()\n",
    "                    sleep(3)\n",
    "                \n",
    "                # Grab available beds\n",
    "                amount_bdrs = int(driver.find_element_by_xpath(\"//span[@class='amount']\").text)\n",
    "                available_dic[selectedBdr].append(selectedBdr)\n",
    "                \n",
    "                # Grab unit information\n",
    "                \n",
    "                holder = [units_dic['unitName'].append(listing.text) for listing in driver.find_elements_by_xpath('//a[@class =\"unit-name-expand hide-for-small\"]') if len(listing.text) > 0]\n",
    "                holder = [units_dic['sqrFt'].append(re.findall(r'\\d+', sqrFt.text)[0]) for sqrFt in driver.find_elements_by_xpath('//li[@class =\"hide-for-small sqft\"]')if len(sqrFt.text) > 0]\n",
    "                holder = [units_dic['price'].append(re.findall(r'\\d+', price.text.replace(',', \"\"))[0]) for price in driver.find_elements_by_xpath('//li[@class =\"price\"]')if len(price.text) > 0]\n",
    "                holder = [units_dic['availableDate'].append(available_date.text.split('\\n')[1]) for available_date in driver.find_elements_by_xpath('//li[@class =\"available\"]')if len(available_date.text) > 0]\n",
    "                holder = [units_dic['bthr'].append(re.findall(r'\\d+',bath_count.text.split('/')[1])[0]) for bath_count in driver.find_elements_by_xpath('//li[@class =\"bed-bath-count\"]')if len(bath_count.text) > 0]\n",
    "                holder = [units_dic['apt_views'].append(re.findall(r'\\d+', aptView.text)[0]) for aptView in driver.find_elements_by_xpath('//p[@class =\"apartment-views\"]')if len(aptView.text) > 0]\n",
    "                holder = [units_dic['features'].append(additional_features.text.replace('Apartment Features\\n',\"\")) for additional_features in driver.find_elements_by_xpath('//li[@class =\"features restricted\"]')if len(additional_features.text) > 0]\n",
    "                holder = [units_dic['date'].append(datetime.now().strftime(\"%m-%d-%y\")) for range(len(unit_listings))]\n",
    "                holder = [units_dic['flr'].append(floor.text) for floor in driver.find_elements_by_xpath('//span[@class=\"floor-number\"]') if len(floor.text)>0]\n",
    "                holder = [units_dic['bdr'].append(re.findall(r'\\d+',bath_count.text.split('/')[0])[0]) for bath_count in driver.find_elements_by_xpath('//li[@class =\"bed-bath-count\"]')if len(bath_count.text) > 0]\n",
    "                # Bedrooms finished\n",
    "\n",
    "            available_dic['date'].append(now.strftime(\"%m-%d-%y\"))\n",
    "            available_dic['building'].append(query_df[query_df['buildingUrl'] == selectedBuilding]['building'])\n",
    "            for available_rooms in available_dic.keys():\n",
    "                if len(available_dic[available_rooms]) != len(available_dic['date']):\n",
    "                    available_dic[available_rooms].append(np.nan)\n",
    "                    "
   ]
  },
  {
   "cell_type": "code",
   "execution_count": 179,
   "metadata": {},
   "outputs": [
    {
     "data": {
      "text/plain": [
       "0    10 Hanover Square\n",
       "1           21 Chelsea\n",
       "2              95 Wall\n",
       "3      Columbus Square\n",
       "4       Leonard Pointe\n",
       "5              View 34\n",
       "Name: building, dtype: object"
      ]
     },
     "execution_count": 179,
     "metadata": {},
     "output_type": "execute_result"
    }
   ],
   "source": [
    "query_df"
   ]
  },
  {
   "cell_type": "code",
   "execution_count": 175,
   "metadata": {},
   "outputs": [],
   "source": []
  },
  {
   "cell_type": "code",
   "execution_count": 66,
   "metadata": {},
   "outputs": [
    {
     "data": {
      "text/html": [
       "<div>\n",
       "<style scoped>\n",
       "    .dataframe tbody tr th:only-of-type {\n",
       "        vertical-align: middle;\n",
       "    }\n",
       "\n",
       "    .dataframe tbody tr th {\n",
       "        vertical-align: top;\n",
       "    }\n",
       "\n",
       "    .dataframe thead th {\n",
       "        text-align: right;\n",
       "    }\n",
       "</style>\n",
       "<table border=\"1\" class=\"dataframe\">\n",
       "  <thead>\n",
       "    <tr style=\"text-align: right;\">\n",
       "      <th></th>\n",
       "      <th>company</th>\n",
       "      <th>building</th>\n",
       "      <th>state</th>\n",
       "      <th>maxBdr</th>\n",
       "      <th>buildingLong</th>\n",
       "      <th>buildingLat</th>\n",
       "      <th>buildingUrl</th>\n",
       "    </tr>\n",
       "  </thead>\n",
       "  <tbody>\n",
       "    <tr>\n",
       "      <th>0</th>\n",
       "      <td>udr</td>\n",
       "      <td>10 Hanover Square</td>\n",
       "      <td>New York</td>\n",
       "      <td>3</td>\n",
       "      <td>-74.008881</td>\n",
       "      <td>40.704552</td>\n",
       "      <td>https://www.udr.com/new-york-city-apartments/l...</td>\n",
       "    </tr>\n",
       "    <tr>\n",
       "      <th>1</th>\n",
       "      <td>udr</td>\n",
       "      <td>21 Chelsea</td>\n",
       "      <td>New York</td>\n",
       "      <td>5</td>\n",
       "      <td>-73.994598</td>\n",
       "      <td>40.741749</td>\n",
       "      <td>https://www.udr.com/new-york-city-apartments/c...</td>\n",
       "    </tr>\n",
       "    <tr>\n",
       "      <th>2</th>\n",
       "      <td>udr</td>\n",
       "      <td>95 Wall</td>\n",
       "      <td>New York</td>\n",
       "      <td>3</td>\n",
       "      <td>-74.007498</td>\n",
       "      <td>40.704694</td>\n",
       "      <td>https://www.udr.com/new-york-city-apartments/l...</td>\n",
       "    </tr>\n",
       "    <tr>\n",
       "      <th>3</th>\n",
       "      <td>udr</td>\n",
       "      <td>Columbus Square</td>\n",
       "      <td>New York</td>\n",
       "      <td>4</td>\n",
       "      <td>-73.967116</td>\n",
       "      <td>40.793967</td>\n",
       "      <td>https://www.udr.com/new-york-city-apartments/u...</td>\n",
       "    </tr>\n",
       "    <tr>\n",
       "      <th>4</th>\n",
       "      <td>udr</td>\n",
       "      <td>Leonard Pointe</td>\n",
       "      <td>New York</td>\n",
       "      <td>2</td>\n",
       "      <td>-73.948483</td>\n",
       "      <td>40.718062</td>\n",
       "      <td>https://www.udr.com/new-york-city-apartments/w...</td>\n",
       "    </tr>\n",
       "    <tr>\n",
       "      <th>5</th>\n",
       "      <td>udr</td>\n",
       "      <td>View 34</td>\n",
       "      <td>New York</td>\n",
       "      <td>3</td>\n",
       "      <td>-73.972534</td>\n",
       "      <td>40.743588</td>\n",
       "      <td>https://www.udr.com/new-york-city-apartments/m...</td>\n",
       "    </tr>\n",
       "  </tbody>\n",
       "</table>\n",
       "</div>"
      ],
      "text/plain": [
       "  company           building     state  maxBdr  buildingLong  buildingLat  \\\n",
       "0     udr  10 Hanover Square  New York       3    -74.008881    40.704552   \n",
       "1     udr         21 Chelsea  New York       5    -73.994598    40.741749   \n",
       "2     udr            95 Wall  New York       3    -74.007498    40.704694   \n",
       "3     udr    Columbus Square  New York       4    -73.967116    40.793967   \n",
       "4     udr     Leonard Pointe  New York       2    -73.948483    40.718062   \n",
       "5     udr            View 34  New York       3    -73.972534    40.743588   \n",
       "\n",
       "                                         buildingUrl  \n",
       "0  https://www.udr.com/new-york-city-apartments/l...  \n",
       "1  https://www.udr.com/new-york-city-apartments/c...  \n",
       "2  https://www.udr.com/new-york-city-apartments/l...  \n",
       "3  https://www.udr.com/new-york-city-apartments/u...  \n",
       "4  https://www.udr.com/new-york-city-apartments/w...  \n",
       "5  https://www.udr.com/new-york-city-apartments/m...  "
      ]
     },
     "execution_count": 66,
     "metadata": {},
     "output_type": "execute_result"
    }
   ],
   "source": [
    "available_dic = {}\n",
    "available_dic['building'] = []\n",
    "available_dic['date'] = []\n",
    "available_dic['studio'] = []\n",
    "available_dic['oneBdr'] = []\n",
    "available_dic['twoBdr'] = []\n",
    "available_dic['threeBdr'] = []\n",
    "available_dic['fourBdr'] = []\n",
    "available_dic['fiveBdr'] = []"
   ]
  },
  {
   "cell_type": "code",
   "execution_count": 86,
   "metadata": {},
   "outputs": [
    {
     "ename": "SyntaxError",
     "evalue": "invalid syntax (<ipython-input-86-57f54fd99f3a>, line 1)",
     "output_type": "error",
     "traceback": [
      "\u001b[1;36m  File \u001b[1;32m\"<ipython-input-86-57f54fd99f3a>\"\u001b[1;36m, line \u001b[1;32m1\u001b[0m\n\u001b[1;33m    yes = 3 if 1+2 == 3\u001b[0m\n\u001b[1;37m                       ^\u001b[0m\n\u001b[1;31mSyntaxError\u001b[0m\u001b[1;31m:\u001b[0m invalid syntax\n"
     ]
    }
   ],
   "source": [
    "yes = 3 if 1+2 == 3"
   ]
  },
  {
   "cell_type": "code",
   "execution_count": 74,
   "metadata": {},
   "outputs": [
    {
     "name": "stderr",
     "output_type": "stream",
     "text": [
      "C:\\Users\\dhlec\\anaconda3\\envs\\PythonData\\lib\\site-packages\\ipykernel_launcher.py:3: DeprecationWarning: use options instead of chrome_options\n",
      "  This is separate from the ipykernel package so we can avoid doing imports until\n"
     ]
    }
   ],
   "source": [
    "options = Options()\n",
    "options.add_argument(f\"user-agent={selectedAgent}\")\n",
    "driver = webdriver.Chrome(chrome_options=options)"
   ]
  },
  {
   "cell_type": "code",
   "execution_count": 133,
   "metadata": {},
   "outputs": [],
   "source": [
    "unit_listings = [listing.text for listing in driver.find_elements_by_xpath('//a[@class =\"unit-name-expand hide-for-small\"]')]\n",
    "sqrFts = [re.findall(r'\\d+', sqrFt.text)[0] for sqrFt in driver.find_elements_by_xpath('//li[@class =\"hide-for-small sqft\"]')]\n",
    "pricings = [re.findall(r'\\d+', price.text.replace(',', \"\"))[0] for price in driver.find_elements_by_xpath('//li[@class =\"price\"]')\n",
    "availabile_dates = [available_date.text.split('\\n')[1] for available_date in driver.find_elements_by_xpath('//li[@class =\"available\"]')]\n",
    "bath_counts = [re.findall(r'\\d+',bath_count.text.split('/')[1])[0] for bath_count in driver.find_elements_by_xpath('//li[@class =\"bed-bath-count\"]')]\n",
    "aptViews = [re.findall(r'\\d+', aptView.text)[0] for aptView in driver.find_elements_by_xpath('//p[@class =\"apartment-views\"]')]\n",
    "additional_features = [additional_features.text.replace('Apartment Features\\n',\"\") for additional_features in driver.find_elements_by_xpath('//li[@class =\"features restricted\"]')]"
   ]
  },
  {
   "cell_type": "code",
   "execution_count": 100,
   "metadata": {},
   "outputs": [
    {
     "name": "stdout",
     "output_type": "stream",
     "text": [
      "Apartment N16P\n",
      "Apartment N22F\n",
      "Apartment S16F\n",
      "Apartment S17P\n",
      "Apartment N24D\n",
      "Apartment S07M\n",
      "Apartment S20K\n",
      "Apartment S21K\n",
      "Apartment N27K\n",
      "Apartment N34D\n",
      "Apartment N25J\n",
      "Apartment N03B\n",
      "Apartment S23G\n",
      "Apartment S15M\n",
      "Apartment N09P\n",
      "Apartment N19M\n",
      "Apartment S27B\n",
      "Apartment S09L\n",
      "Apartment N20D\n",
      "Apartment N20K\n",
      "Apartment N04B\n",
      "Apartment N05F\n",
      "Apartment N16L\n",
      "Apartment S23H\n",
      "Apartment S22K\n",
      "Apartment S24D\n",
      "Apartment N25D\n",
      "Apartment S18L\n",
      "Apartment N29D\n",
      "Apartment N15G\n"
     ]
    }
   ],
   "source": [
    "for listing in all_listings:\n",
    "    print(listing.text)"
   ]
  }
 ],
 "metadata": {
  "kernelspec": {
   "display_name": "Python 3",
   "language": "python",
   "name": "python3"
  },
  "language_info": {
   "codemirror_mode": {
    "name": "ipython",
    "version": 3
   },
   "file_extension": ".py",
   "mimetype": "text/x-python",
   "name": "python",
   "nbconvert_exporter": "python",
   "pygments_lexer": "ipython3",
   "version": "3.7.6"
  }
 },
 "nbformat": 4,
 "nbformat_minor": 4
}
