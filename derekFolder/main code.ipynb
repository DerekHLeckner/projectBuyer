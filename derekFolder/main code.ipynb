{
 "cells": [
  {
   "cell_type": "markdown",
   "metadata": {},
   "source": [
    "# Import dependents"
   ]
  },
  {
   "cell_type": "code",
   "execution_count": 133,
   "metadata": {},
   "outputs": [],
   "source": [
    "from selenium import webdriver\n",
    "import requests\n",
    "from time import sleep\n",
    "from bs4 import BeautifulSoup\n",
    "import spacy\n",
    "nlp = spacy.load(\"en_core_web_sm\")"
   ]
  },
  {
   "cell_type": "markdown",
   "metadata": {},
   "source": [
    "# Set up driver"
   ]
  },
  {
   "cell_type": "code",
   "execution_count": 78,
   "metadata": {},
   "outputs": [],
   "source": [
    "driver = webdriver.Chrome('chromedriver.exe')  # Optional argument, if not specified will search path."
   ]
  },
  {
   "cell_type": "markdown",
   "metadata": {},
   "source": [
    "#  Set up URL"
   ]
  },
  {
   "cell_type": "code",
   "execution_count": 170,
   "metadata": {},
   "outputs": [],
   "source": [
    "# UDR URLs\n",
    "base_url = \"https://www.udr.com\"\n",
    "city = 'new-york-city-apartments'\n",
    "area = 'murray-hill'\n",
    "apt_name = 'view-34'\n",
    "page = 'apartments-pricing'\n",
    "query = 'beds'\n",
    "numbers = [0,1,2,3]\n",
    "sitemap = 'site-map'"
   ]
  },
  {
   "cell_type": "markdown",
   "metadata": {},
   "source": [
    "# Site map URL"
   ]
  },
  {
   "cell_type": "code",
   "execution_count": 107,
   "metadata": {},
   "outputs": [],
   "source": [
    "url_site_map = f\"{base_url}/{sitemap}\""
   ]
  },
  {
   "cell_type": "code",
   "execution_count": 109,
   "metadata": {},
   "outputs": [],
   "source": [
    "URL = url_site_map\n",
    "page = requests.get(URL)\n",
    "soup = BeautifulSoup(page.content, \"html.parser\")"
   ]
  },
  {
   "cell_type": "markdown",
   "metadata": {},
   "source": [
    "# Crawl for all locations"
   ]
  },
  {
   "cell_type": "code",
   "execution_count": 165,
   "metadata": {},
   "outputs": [],
   "source": [
    "all_accordions = soup.find_all('h3', {'class': \"accordion-header\"})\n",
    "all_regions = soup.find_all('a', {'class': \"region\"})\n",
    "all_communities = soup.find_all('a', {'class': \"community\"})\n",
    "all_urls = soup.find_all(\"a\", {'class':\"community\"})\n",
    "\n",
    "\n",
    "states = [accordion.text.replace('\\n','').replace('\\r', '').strip() for accordion in all_accordions]\n",
    "cities = [region.text.replace('\\n','').replace('\\r', '').strip() for region in all_regions]\n",
    "communities = [community.text.replace('\\n','').replace('\\r', '').strip() for community in all_communities]\n",
    "location_urls = [url.get('href') for url in all_urls]"
   ]
  },
  {
   "cell_type": "code",
   "execution_count": 171,
   "metadata": {},
   "outputs": [
    {
     "name": "stdout",
     "output_type": "stream",
     "text": [
      "https://www.udr.com/inland-empire-apartments/rancho-cucamonga/verano-at-rancho-cucamonga-town-square/apartments-pricing\n",
      "https://www.udr.com/inland-empire-apartments/riverside/windemere-at-sycamore-highlands/apartments-pricing\n",
      "https://www.udr.com/los-angeles-apartments/downtown-los-angeles/3033-wilshire/apartments-pricing\n",
      "https://www.udr.com/los-angeles-apartments/marina-del-rey/jefferson-at-marina-del-rey/apartments-pricing\n",
      "https://www.udr.com/los-angeles-apartments/marina-del-rey/the-westerly-on-lincoln/apartments-pricing\n",
      "https://www.udr.com/los-angeles-apartments/marina-del-rey/tierra-del-rey/apartments-pricing\n",
      "https://www.udr.com/los-angeles-apartments/the-grove/vision-on-wilshire/apartments-pricing\n",
      "https://www.udr.com/orange-county-apartments/costa-mesa/27-seventy-five-mesa-verde/apartments-pricing\n",
      "https://www.udr.com/orange-county-apartments/huntington-beach/beach-and-ocean/apartments-pricing\n",
      "https://www.udr.com/orange-county-apartments/newport-beach/eight-80-newport-beach/apartments-pricing\n",
      "https://www.udr.com/orange-county-apartments/north-orange/foxborough/apartments-pricing\n",
      "https://www.udr.com/orange-county-apartments/costa-mesa/harbor-at-mesa-verde/apartments-pricing\n",
      "https://www.udr.com/orange-county-apartments/huntington-beach/huntington-vista/apartments-pricing\n",
      "https://www.udr.com/orange-county-apartments/mission-viejo/los-alisos-at-mission-viejo/apartments-pricing\n",
      "https://www.udr.com/orange-county-apartments/costa-mesa/missions-at-back-bay/apartments-pricing\n",
      "https://www.udr.com/orange-county-apartments/la-mirada/rosebeach/apartments-pricing\n",
      "https://www.udr.com/orange-county-apartments/huntington-beach/the-residences-at-bella-terra/apartments-pricing\n",
      "https://www.udr.com/orange-county-apartments/huntington-beach/the-residences-at-pacific-city/apartments-pricing\n",
      "https://www.udr.com/orange-county-apartments/irvine/the-residences-on-jamboree/apartments-pricing\n",
      "https://www.udr.com/salinas-apartments/santa-rita/boronda-manor/apartments-pricing\n",
      "https://www.udr.com/salinas-apartments/north-salinas/cambridge-court/apartments-pricing\n",
      "https://www.udr.com/salinas-apartments/east-salinas/garden-court/apartments-pricing\n",
      "https://www.udr.com/salinas-apartments/laurel/laurel-tree/apartments-pricing\n",
      "https://www.udr.com/salinas-apartments/north-salinas/pointe-at-harden-ranch/apartments-pricing\n",
      "https://www.udr.com/salinas-apartments/north-salinas/pointe-at-northridge/apartments-pricing\n",
      "https://www.udr.com/salinas-apartments/oldtown/pointe-at-westlake/apartments-pricing\n",
      "https://www.udr.com/san-diego-apartments/east-village/13th-and-market/apartments-pricing\n",
      "https://www.udr.com/san-diego-apartments/east-village/strata/apartments-pricing\n",
      "https://www.udr.com/san-francisco-bay-area-apartments/san-francisco/2000-post/apartments-pricing\n",
      "https://www.udr.com/san-francisco-bay-area-apartments/san-francisco/388-beale/apartments-pricing\n",
      "https://www.udr.com/san-francisco-bay-area-apartments/san-francisco/399-fremont/apartments-pricing\n",
      "https://www.udr.com/san-francisco-bay-area-apartments/dublin/5421-at-dublin-station/apartments-pricing\n",
      "https://www.udr.com/san-francisco-bay-area-apartments/san-jose/almaden-lake-village/apartments-pricing\n",
      "https://www.udr.com/san-francisco-bay-area-apartments/san-mateo/bay-terrace/apartments-pricing\n",
      "https://www.udr.com/san-francisco-bay-area-apartments/mountain-view/birch-creek/apartments-pricing\n",
      "https://www.udr.com/san-francisco-bay-area-apartments/san-francisco/channel-mission-bay/apartments-pricing\n",
      "https://www.udr.com/san-francisco-bay-area-apartments/san-mateo/citysouth/apartments-pricing\n",
      "https://www.udr.com/san-francisco-bay-area-apartments/san-francisco/edgewater/apartments-pricing\n",
      "https://www.udr.com/san-francisco-bay-area-apartments/san-rafael/highlands-of-marin/apartments-pricing\n",
      "https://www.udr.com/san-francisco-bay-area-apartments/santa-clara/marina-playa/apartments-pricing\n",
      "https://www.udr.com/san-francisco-bay-area-apartments/santa-clara/river-terrace/apartments-pricing\n",
      "https://www.udr.com/san-francisco-bay-area-apartments/mountain-view/verve/apartments-pricing\n",
      "https://www.udr.com/denver-apartments/west-colfax/cirrus/apartments-pricing\n",
      "https://www.udr.com/denver-apartments/cherry-creek/steele-creek/apartments-pricing\n",
      "https://www.udr.com/washington-dc-apartments/silver-spring/1200-east-west/apartments-pricing\n",
      "https://www.udr.com/washington-dc-apartments/logan-circle/1301-thomas-circle/apartments-pricing\n",
      "https://www.udr.com/washington-dc-apartments/thomas-circle/andover-house/apartments-pricing\n",
      "https://www.udr.com/washington-dc-apartments/alexandria/arbor-park-of-alexandria/apartments-pricing\n",
      "https://www.udr.com/washington-dc-apartments/germantown/canterbury-apartments/apartments-pricing\n",
      "https://www.udr.com/washington-dc-apartments/u-street-corridor/capitol-view-on-14th/apartments-pricing\n",
      "https://www.udr.com/washington-dc-apartments/arlington/crescent-falls-church/apartments-pricing\n",
      "https://www.udr.com/washington-dc-apartments/arlington/delancey-at-shirlington-village/apartments-pricing\n",
      "https://www.udr.com/washington-dc-apartments/college-park/domain-college-park/apartments-pricing\n",
      "https://www.udr.com/washington-dc-apartments/woodbridge/dominion-lake-ridge/apartments-pricing\n",
      "https://www.udr.com/washington-dc-apartments/woodbridge/dominion-middle-ridge/apartments-pricing\n",
      "https://www.udr.com/washington-dc-apartments/silver-spring/eleven55-ripley/apartments-pricing\n",
      "https://www.udr.com/washington-dc-apartments/alexandria/newport-village/apartments-pricing\n",
      "https://www.udr.com/washington-dc-apartments/alexandria/presidential-greens/apartments-pricing\n",
      "https://www.udr.com/washington-dc-apartments/silver-spring/ridgewood/apartments-pricing\n",
      "https://www.udr.com/washington-dc-apartments/germantown/seneca-place/apartments-pricing\n",
      "https://www.udr.com/washington-dc-apartments/woodbridge/signal-hill-apartment-homes/apartments-pricing\n",
      "https://www.udr.com/washington-dc-apartments/herndon/station-on-silver/apartments-pricing\n",
      "https://www.udr.com/washington-dc-apartments/alexandria/sullivan-place/apartments-pricing\n",
      "https://www.udr.com/washington-dc-apartments/herndon/the-courts-at-dulles/apartments-pricing\n",
      "https://www.udr.com/washington-dc-apartments/alexandria/the-courts-at-huntington-station/apartments-pricing\n",
      "https://www.udr.com/washington-dc-apartments/union-market/the-mo/apartments-pricing\n",
      "https://www.udr.com/washington-dc-apartments/arlington/the-whitmore/apartments-pricing\n",
      "https://www.udr.com/washington-dc-apartments/u-street-corridor/view-14/apartments-pricing\n",
      "https://www.udr.com/washington-dc-apartments/southwest/waterside-towers/apartments-pricing\n",
      "https://www.udr.com/washington-dc-apartments/manassas/wellington-place-at-olde-town/apartments-pricing\n",
      "https://www.udr.com/orlando-apartments/oviedo/alafaya-woods/apartments-pricing\n",
      "https://www.udr.com/orlando-apartments/altamonte-springs/altamira-place-apartment-homes/apartments-pricing\n",
      "https://www.udr.com/orlando-apartments/lee-vista/arbors-at-lee-vista/apartments-pricing\n",
      "https://www.udr.com/orlando-apartments/orlando/arbors-at-maitland-summit/apartments-pricing\n",
      "https://www.udr.com/orlando-apartments/waterford-lakes/ashton-at-waterford-lakes/apartments-pricing\n",
      "https://www.udr.com/orlando-apartments/orlando/essex-luxe-apartments/apartments-pricing\n",
      "https://www.udr.com/orlando-apartments/altamonte-springs/los-altos-at-altamonte-springs/apartments-pricing\n",
      "https://www.udr.com/orlando-apartments/altamonte-springs/lotus-landing/apartments-pricing\n",
      "https://www.udr.com/orlando-apartments/north-sanford/regatta-shores/apartments-pricing\n",
      "https://www.udr.com/orlando-apartments/southeast-winter-park/seabrook/apartments-pricing\n",
      "https://www.udr.com/orlando-apartments/winter-springs/seville-on-the-green/apartments-pricing\n",
      "https://www.udr.com/tampa-apartments/new-tampa/andover-place-at-cross-creek/apartments-pricing\n",
      "https://www.udr.com/tampa-apartments/university-center/cambridge-woods/apartments-pricing\n",
      "https://www.udr.com/tampa-apartments/st-petersburg/inlet-bay-at-gateway/apartments-pricing\n",
      "https://www.udr.com/tampa-apartments/brandon/lakewood-place/apartments-pricing\n",
      "https://www.udr.com/tampa-apartments/south-dunedin/macalpine-place/apartments-pricing\n",
      "https://www.udr.com/tampa-apartments/st-petersburg/peridot-palms/apartments-pricing\n",
      "https://www.udr.com/tampa-apartments/temple-terrace/summit-west/apartments-pricing\n",
      "https://www.udr.com/tampa-apartments/clearwater/the-breyley-apartments/apartments-pricing\n",
      "https://www.udr.com/tampa-apartments/st-petersburg/the-preserve-at-gateway/apartments-pricing\n",
      "https://www.udr.com/tampa-apartments/tampa/the-slade-at-channelside/apartments-pricing\n",
      "https://www.udr.com/tampa-apartments/north-hyde-park/the-vintage-lofts-at-west-end/apartments-pricing\n",
      "https://www.udr.com/west-palm-beach-apartments/greenacres/the-reserve-and-the-park-at-riverbridge/apartments-pricing\n",
      "https://www.udr.com/baltimore-apartments/towson/1274-at-towson/apartments-pricing\n",
      "https://www.udr.com/baltimore-apartments/towson/20-lambourne/apartments-pricing\n",
      "https://www.udr.com/baltimore-apartments/bel-air-south/calverts-walk/apartments-pricing\n",
      "https://www.udr.com/baltimore-apartments/canton/domain-brewers-hill/apartments-pricing\n",
      "https://www.udr.com/baltimore-apartments/towson/rodgers-forge/apartments-pricing\n",
      "https://www.udr.com/baltimore-apartments/towson/the-quarters-at-towson-town-center/apartments-pricing\n",
      "https://www.udr.com/baltimore-apartments/towson/towson-promenade/apartments-pricing\n",
      "https://www.udr.com/boston-apartments/seaport/pier-4/apartments-pricing\n",
      "https://www.udr.com/boston-apartments/peabody/14-north/apartments-pricing\n",
      "https://www.udr.com/boston-apartments/south-end/345-harrison/apartments-pricing\n",
      "https://www.udr.com/boston-apartments/needham/charles-river-landing/apartments-pricing\n",
      "https://www.udr.com/boston-apartments/waltham/currents-on-the-charles/apartments-pricing\n",
      "https://www.udr.com/boston-apartments/back-bay/garrison-square/apartments-pricing\n",
      "https://www.udr.com/boston-apartments/woburn/inwood-west/apartments-pricing\n",
      "https://www.udr.com/boston-apartments/braintree/lenox-farms/apartments-pricing\n",
      "https://www.udr.com/boston-apartments/tewksbury/lodge-at-ames-pond/apartments-pricing\n",
      "https://www.udr.com/boston-apartments/foxborough/lodge-at-foxborough/apartments-pricing\n",
      "https://www.udr.com/boston-apartments/braintree/ridge-at-blue-hills/apartments-pricing\n",
      "https://www.udr.com/boston-apartments/norwood/the-commons-at-windsor-gardens/apartments-pricing\n",
      "https://www.udr.com/boston-apartments/franklin/union-place/apartments-pricing\n",
      "https://www.udr.com/new-jersey-apartments/englewood/one-william/apartments-pricing\n",
      "https://www.udr.com/new-york-city-apartments/lower-manhattan/10-hanover-square/apartments-pricing\n",
      "https://www.udr.com/new-york-city-apartments/chelsea/21-chelsea/apartments-pricing\n",
      "https://www.udr.com/new-york-city-apartments/lower-manhattan/95-wall/apartments-pricing\n",
      "https://www.udr.com/new-york-city-apartments/upper-west-side/columbus-square/apartments-pricing\n",
      "https://www.udr.com/new-york-city-apartments/williamsburg/leonard-pointe/apartments-pricing\n",
      "https://www.udr.com/new-york-city-apartments/murray-hill/view-34/apartments-pricing\n",
      "https://www.udr.com/portland-apartments/lake-oswego/hunt-club/apartments-pricing\n",
      "https://www.udr.com/portland-apartments/hillsboro/the-arbory/apartments-pricing\n",
      "https://www.udr.com/portland-apartments/tualatin/tualatin-heights/apartments-pricing\n",
      "https://www.udr.com/philadelphia-apartments/center-city/322-on-north-broad/apartments-pricing\n",
      "https://www.udr.com/philadelphia-apartments/university-city/domus/apartments-pricing\n",
      "https://www.udr.com/philadelphia-apartments/king-of-prussia/park-square/apartments-pricing\n",
      "https://www.udr.com/philadelphia-apartments/valley-forge/the-george/apartments-pricing\n",
      "https://www.udr.com/philadelphia-apartments/king-of-prussia/the-smith/apartments-pricing\n",
      "https://www.udr.com/nashville-apartments/north-madison/breckenridge/apartments-pricing\n",
      "https://www.udr.com/nashville-apartments/south-nashville/brookridge/apartments-pricing\n",
      "https://www.udr.com/nashville-apartments/east-franklin/carrington-hills/apartments-pricing\n",
      "https://www.udr.com/nashville-apartments/south-hermitage/colonnade/apartments-pricing\n",
      "https://www.udr.com/nashville-apartments/hendersonville/hickory-run/apartments-pricing\n",
      "https://www.udr.com/nashville-apartments/belle-meade/legacy-hill/apartments-pricing\n",
      "https://www.udr.com/nashville-apartments/polo-park/polo-park/apartments-pricing\n",
      "https://www.udr.com/nashville-apartments/brentwood/preserve-at-brentwood/apartments-pricing\n",
      "https://www.udr.com/austin-apartments/barton-hills/barton-creek-landing/apartments-pricing\n",
      "https://www.udr.com/austin-apartments/cedar-park/lakeline-villas/apartments-pricing\n",
      "https://www.udr.com/austin-apartments/cedar-park/red-stone-ranch/apartments-pricing\n",
      "https://www.udr.com/austin-apartments/domain/residences-at-the-domain/apartments-pricing\n",
      "https://www.udr.com/dallas-apartments/addison/addison-apartments-at-the-park/apartments-pricing\n",
      "https://www.udr.com/dallas-apartments/frisco/cool-springs-at-frisco-bridges/apartments-pricing\n",
      "https://www.udr.com/dallas-apartments/addison/fiori-on-vitruvian-park/apartments-pricing\n",
      "https://www.udr.com/dallas-apartments/plano/legacy-village-apartment-homes/apartments-pricing\n",
      "https://www.udr.com/dallas-apartments/addison/savoye/apartments-pricing\n",
      "https://www.udr.com/dallas-apartments/farmers-branch/the-canal/apartments-pricing\n",
      "https://www.udr.com/dallas-apartments/uptown-dallas/thirty377/apartments-pricing\n",
      "https://www.udr.com/dallas-apartments/addison/vitruvian-west/apartments-pricing\n",
      "https://www.udr.com/richmond-apartments/tuckahoe/gayton-pointe-townhomes/apartments-pricing\n",
      "https://www.udr.com/richmond-apartments/henrico/legacy-at-mayland/apartments-pricing\n",
      "https://www.udr.com/richmond-apartments/glen-allen/the-carriage-homes-at-wyndham/apartments-pricing\n",
      "https://www.udr.com/richmond-apartments/chesterfield/waterside-at-ironbridge/apartments-pricing\n",
      "https://www.udr.com/seattle-apartments/bellevue/ashton-bellevue/apartments-pricing\n",
      "https://www.udr.com/seattle-apartments/bellevue/brio/apartments-pricing\n",
      "https://www.udr.com/seattle-apartments/columbia-city/cityline/apartments-pricing\n",
      "https://www.udr.com/seattle-apartments/renton/crown-pointe/apartments-pricing\n",
      "https://www.udr.com/seattle-apartments/bellevue/elements/apartments-pricing\n",
      "https://www.udr.com/seattle-apartments/everett/hearthstone-at-merrill-creek/apartments-pricing\n",
      "https://www.udr.com/seattle-apartments/renton/hilltop-in-the-highlands/apartments-pricing\n",
      "https://www.udr.com/seattle-apartments/mercer-island/island-square/apartments-pricing\n",
      "https://www.udr.com/seattle-apartments/downtown-seattle/lightbox/apartments-pricing\n",
      "https://www.udr.com/seattle-apartments/redmond/milehouse/apartments-pricing\n",
      "https://www.udr.com/seattle-apartments/bellevue/ten20/apartments-pricing\n",
      "https://www.udr.com/seattle-apartments/mill-creek/the-hawthorne/apartments-pricing\n",
      "https://www.udr.com/seattle-apartments/downtown-seattle/the-kennedy-building/apartments-pricing\n"
     ]
    }
   ],
   "source": [
    "queryURL = locations_url\n",
    "page = requests.get(queryURL)\n",
    "soup = BeautifulSoup(page.content, \"html.parser\")"
   ]
  },
  {
   "cell_type": "code",
   "execution_count": 102,
   "metadata": {},
   "outputs": [],
   "source": [
    "dic = {}"
   ]
  },
  {
   "cell_type": "code",
   "execution_count": 103,
   "metadata": {},
   "outputs": [],
   "source": [
    "for number in numbers:\n",
    "    url = f\"{base_url}/{city}/{area}/{apt_name}/{page}/?{query}={number}\"\n",
    "    driver.get(url)\n",
    "    sleep(3)\n",
    "    dic[f\"bdr{number}\"] = int(driver.find_element_by_class_name('amount').text)\n",
    "    sleep(2)"
   ]
  },
  {
   "cell_type": "code",
   "execution_count": 104,
   "metadata": {},
   "outputs": [
    {
     "data": {
      "text/plain": [
       "{'bdr0': 1, 'bdr1': 27, 'bdr2': 6, 'bdr3': 5}"
      ]
     },
     "execution_count": 104,
     "metadata": {},
     "output_type": "execute_result"
    }
   ],
   "source": [
    "dic"
   ]
  },
  {
   "cell_type": "code",
   "execution_count": 86,
   "metadata": {},
   "outputs": [],
   "source": [
    "driver.get(url)\n",
    "sleep(3)"
   ]
  },
  {
   "cell_type": "code",
   "execution_count": 99,
   "metadata": {},
   "outputs": [
    {
     "data": {
      "text/plain": [
       "'27'"
      ]
     },
     "execution_count": 99,
     "metadata": {},
     "output_type": "execute_result"
    }
   ],
   "source": [
    "oneBdr = int(driver.find_element_by_class_name('amount').text)"
   ]
  },
  {
   "cell_type": "code",
   "execution_count": 75,
   "metadata": {},
   "outputs": [
    {
     "data": {
      "text/plain": [
       "'https://www.udr.com/new-york-city-apartments/murray-hill/view-34/apartments-pricing/?beds=1'"
      ]
     },
     "execution_count": 75,
     "metadata": {},
     "output_type": "execute_result"
    }
   ],
   "source": [
    "url"
   ]
  },
  {
   "cell_type": "code",
   "execution_count": 74,
   "metadata": {},
   "outputs": [
    {
     "name": "stdout",
     "output_type": "stream",
     "text": [
      "0\n"
     ]
    }
   ],
   "source": [
    "print(results.text)"
   ]
  }
 ],
 "metadata": {
  "kernelspec": {
   "display_name": "Python 3",
   "language": "python",
   "name": "python3"
  },
  "language_info": {
   "codemirror_mode": {
    "name": "ipython",
    "version": 3
   },
   "file_extension": ".py",
   "mimetype": "text/x-python",
   "name": "python",
   "nbconvert_exporter": "python",
   "pygments_lexer": "ipython3",
   "version": "3.7.6"
  }
 },
 "nbformat": 4,
 "nbformat_minor": 4
}
